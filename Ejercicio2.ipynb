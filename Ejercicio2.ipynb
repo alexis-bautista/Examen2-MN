{
  "nbformat": 4,
  "nbformat_minor": 0,
  "metadata": {
    "colab": {
      "provenance": [],
      "authorship_tag": "ABX9TyOW/C3DkizZazdiSf+BdYoM"
    },
    "kernelspec": {
      "name": "python3",
      "display_name": "Python 3"
    },
    "language_info": {
      "name": "python"
    }
  },
  "cells": [
    {
      "cell_type": "markdown",
      "source": [
        "# Ejercicio 2"
      ],
      "metadata": {
        "id": "U_068yswNNZm"
      }
    },
    {
      "cell_type": "code",
      "source": [
        "import numpy as np\n",
        "from scipy.optimize import bisect, newton\n",
        "\n",
        "def f(x):\n",
        "    return x**5 - 6*x**4 + 2*x**3 + 20*x**2 - 27*x + 10\n",
        "\n",
        "def f_prima(x):\n",
        "    return 5*x**4 - 24*x**3 + 6*x**2 + 40*x - 27\n",
        "\n",
        "# Intervalos donde la funcion cambia de signo\n",
        "intervals = [(-2, 0), (0, 2), (2, 3), (3, 4), (4, 6)]\n",
        "\n",
        "raices = []\n",
        "\n",
        "# Aplicar  biseccion en cada intervalo\n",
        "for a, b in intervals:\n",
        "    try:\n",
        "        root = bisect(f, a, b)\n",
        "        raices.append(root)\n",
        "    except ValueError:\n",
        "        continue\n",
        "\n",
        "print(\"Raíces encontradas con bisección:\", raices)\n",
        "\n",
        "# Refinar las raices con el metodo de Newton\n",
        "refinar_raices = []\n",
        "\n",
        "for root in raices:\n",
        "    refined_root = newton(f, root, fprime=f_prima)\n",
        "    refinar_raices.append(refined_root)\n",
        "\n",
        "print(\"Raíces refinadas con Newton:\", refinar_raices)\n",
        "\n",
        "#comprobacion (evaluar en estos puntos y esperar 0)\n",
        "for root in refinar_raices:\n",
        "    print(f\"f({root}) = {f(root)}\")\n",
        "\n",
        "#imprimir raices\n",
        "print(\"Raices encontradas:\")\n",
        "print(\"x_1 =\" , raices[0])\n",
        "print(\"x_2 =\" , raices[1])\n",
        "print(\"x_3 =\" , raices[2])\n"
      ],
      "metadata": {
        "colab": {
          "base_uri": "https://localhost:8080/"
        },
        "id": "PJm5x3n5NP8X",
        "outputId": "152c82ca-3c6c-423d-e505-5c36bc5729db"
      },
      "execution_count": 31,
      "outputs": [
        {
          "output_type": "stream",
          "name": "stdout",
          "text": [
            "Raíces encontradas con bisección: [-2.0, 1.0, 5.0]\n",
            "Raíces refinadas con Newton: [-2.0, 1.0, 5.0]\n",
            "f(-2.0) = 0.0\n",
            "f(1.0) = 0.0\n",
            "f(5.0) = 0.0\n",
            "Raices encontradas:\n",
            "x_1 = -2.0\n",
            "x_2 = 1.0\n",
            "x_3 = 5.0\n"
          ]
        }
      ]
    }
  ]
}